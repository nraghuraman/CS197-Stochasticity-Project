{
  "nbformat": 4,
  "nbformat_minor": 0,
  "metadata": {
    "colab": {
      "name": "Running Advex-UAR with Transforms.ipynb",
      "provenance": [],
      "collapsed_sections": [],
      "include_colab_link": true
    },
    "kernelspec": {
      "name": "python3",
      "display_name": "Python 3"
    },
    "accelerator": "GPU"
  },
  "cells": [
    {
      "cell_type": "markdown",
      "metadata": {
        "id": "view-in-github",
        "colab_type": "text"
      },
      "source": [
        "<a href=\"https://colab.research.google.com/github/nraghuraman/CS197-Stochasticity-Project/blob/master/Advex_UAR_Tests.ipynb\" target=\"_parent\"><img src=\"https://colab.research.google.com/assets/colab-badge.svg\" alt=\"Open In Colab\"/></a>"
      ]
    },
    {
      "cell_type": "code",
      "metadata": {
        "id": "kH-5oov-TcII",
        "colab_type": "code",
        "colab": {}
      },
      "source": [
        "!rm -R /content/advex-uar/"
      ],
      "execution_count": 0,
      "outputs": []
    },
    {
      "cell_type": "code",
      "metadata": {
        "id": "vDG_qy-3HMGe",
        "colab_type": "code",
        "colab": {}
      },
      "source": [
        "!pip install click numpy opencv-python Pillow scipy\n",
        "!pip install torch torchvision==0.2.2\n",
        "!pip install horovod\n",
        "!git clone https://github.com/ezl-13/advex-uar.git"
      ],
      "execution_count": 0,
      "outputs": []
    },
    {
      "cell_type": "code",
      "metadata": {
        "id": "9p-EB47Noddf",
        "colab_type": "code",
        "colab": {}
      },
      "source": [
        "!pip install advex-uar\n",
        "!pip install wandb"
      ],
      "execution_count": 0,
      "outputs": []
    },
    {
      "cell_type": "code",
      "metadata": {
        "id": "kRIhix_oI11n",
        "colab_type": "code",
        "colab": {}
      },
      "source": [
        "import torchvision\n",
        "import torch"
      ],
      "execution_count": 0,
      "outputs": []
    },
    {
      "cell_type": "code",
      "metadata": {
        "id": "e6_chYKBJXDB",
        "colab_type": "code",
        "colab": {}
      },
      "source": [
        "!rm ./sample_data/*\n",
        "!rm ./cifar-10-batches-py/*\n",
        "!python /content/advex-uar/advex_uar/examples/eval.py --dataset cifar-10 --class_downsample_factor 10 --attack fog --epsilon 4 --n_iters 10 --step_size 1 --ckpt_path /content/ckpt19.pth"
      ],
      "execution_count": 0,
      "outputs": []
    },
    {
      "cell_type": "code",
      "metadata": {
        "id": "CLfv2meGaUNP",
        "colab_type": "code",
        "colab": {}
      },
      "source": [
        "!rm ./sample_data/*\n",
        "!rm ./cifar-10-batches-py/*\n",
        "!python /content/advex-uar/advex_uar/examples/eval_lower_bound.py --dataset cifar-10 --class_downsample_factor 10 --attack fog --epsilon 4 --n_iters 10 --step_size 1 --ckpt_path /content/ckpt19.pth"
      ],
      "execution_count": 0,
      "outputs": []
    }
  ]
}